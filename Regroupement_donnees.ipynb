{
 "cells": [
  {
   "cell_type": "markdown",
   "metadata": {},
   "source": [
    "# Regroupement des données"
   ]
  },
  {
   "cell_type": "markdown",
   "metadata": {},
   "source": [
    "Lire les bases de données et faire les jointures necessaire pour avoir un maximum d'informations disponibles pour chaque film"
   ]
  },
  {
   "cell_type": "code",
   "execution_count": 1,
   "metadata": {},
   "outputs": [],
   "source": [
    "#Import des librairies\n",
    "import pandas as pd\n",
    "import numpy as np\n",
    "import matplotlib.pyplot as plt\n",
    "import seaborn as sns\n",
    "import os"
   ]
  },
  {
   "cell_type": "code",
   "execution_count": null,
   "metadata": {},
   "outputs": [],
   "source": [
    "#Lecture des fichiers IMDB\n",
    "title_akas = pd.read_csv(\"https://datasets.imdbws.com/title.akas.tsv.gz\", sep = '\\t')\n",
    "title_basics = pd.read_csv(\"https://datasets.imdbws.com/title.basics.tsv.gz\", sep = '\\t')\n",
    "title_crew  = pd.read_csv(\"https://datasets.imdbws.com/title.crew.tsv.gz\", sep = '\\t')\n",
    "title_episode  = pd.read_csv(\"https://datasets.imdbws.com/title.episode.tsv.gz\", sep = '\\t')\n",
    "title_principals = pd.read_csv(\"https://datasets.imdbws.com/title.principals.tsv.gz\", sep = '\\t')\n",
    "title_ratings = pd.read_csv(\"https://datasets.imdbws.com/title.ratings.tsv.gz\", sep = '\\t')\n",
    "name_basics = pd.read_csv('https://datasets.imdbws.com/name.basics.tsv.gz', compression='gzip', sep=\"\\t\")"
   ]
  },
  {
   "cell_type": "code",
   "execution_count": null,
   "metadata": {},
   "outputs": [],
   "source": [
    "#Informations sur les fichiers IMDB\n",
    "print(title_akas.shape)  #(21531785, 8)\n",
    "title_akas.head()\n",
    "print(title_basics.shape)  #(6790810, 9)\n",
    "title_basics.head()\n",
    "print(title_crew.shape)  #(6790810, 3)\n",
    "title_crew.head()\n",
    "print(title_episode.shape)  #(4835383, 4)\n",
    "title_episode.head()\n",
    "print(title_principals.shape)  #(39102257, 6)\n",
    "title_principals.head()\n",
    "print(title_ratings.shape)  #(1037863, 3)\n",
    "title_ratings.head()\n",
    "print(name_basics.shape) \n",
    "name_basics.head()"
   ]
  },
  {
   "cell_type": "code",
   "execution_count": null,
   "metadata": {},
   "outputs": [],
   "source": [
    "#acces dossier\n",
    "way_small = \"C:/Users/33670/Desktop/wild/travail/Projet 3/ml-latest-small/\"\n",
    "way= \"C:/Users/33670/Desktop/wild/travail/Projet 3/ml-latest/\""
   ]
  },
  {
   "cell_type": "code",
   "execution_count": null,
   "metadata": {},
   "outputs": [],
   "source": [
    "#Lecture du fichier movies original (dans lequel on veut rappatrier le maximum d'information sur les films)\n",
    "movies_small = pd.read_csv(way_small+\"movies.csv\",sep=',',skiprows=0,header=0,index_col = None)\n",
    "movies_small.head()\n",
    "\n",
    "movies = pd.read_csv(way+\"movies.csv\",sep=',',skiprows=0,header=0,index_col = None)\n",
    "movies.head()\n",
    "\n",
    "print(movies_small.shape)   #(9742, 3)\n",
    "print(movies.shape)   #(58098, 3)"
   ]
  },
  {
   "cell_type": "code",
   "execution_count": null,
   "metadata": {},
   "outputs": [],
   "source": [
    "#verification data : pas de NA\n",
    "print(movies.isna().sum())"
   ]
  },
  {
   "cell_type": "code",
   "execution_count": null,
   "metadata": {},
   "outputs": [],
   "source": [
    "#Lecture du fichier links (contenant les correspondances entre les BDD)\n",
    "links = pd.read_csv(way+\"links.csv\",sep=',',skiprows=0,header=0,index_col = None)\n",
    "print(links.shape)   #(58098, 3), même taille que movies\n",
    "links.head()"
   ]
  },
  {
   "cell_type": "code",
   "execution_count": null,
   "metadata": {},
   "outputs": [],
   "source": [
    "#Creation d'une colonne tt_id pour faire la jointure entre movies et les fichiers IMDB \n",
    "links_test = links\n",
    "links_test['tt_id']=''\n",
    "long_id=0\n",
    "for i in range(links.shape[0]):\n",
    "    long_id = len(str(links_test['imdbId'][i]))\n",
    "    if long_id == 1:\n",
    "        links_test['tt_id'][i] = \"tt000000\"+str(links_test['imdbId'][i])\n",
    "    elif long_id == 2:\n",
    "        links_test['tt_id'][i] = \"tt00000\"+str(links_test['imdbId'][i])\n",
    "    elif long_id == 3:\n",
    "        links_test['tt_id'][i] = \"tt0000\"+str(links_test['imdbId'][i])        \n",
    "    elif long_id == 4:\n",
    "        links_test['tt_id'][i] = \"tt000\"+str(links_test['imdbId'][i])\n",
    "    elif long_id == 5:\n",
    "        links_test['tt_id'][i] = \"tt00\"+str(links_test['imdbId'][i])\n",
    "    elif long_id == 6:\n",
    "        links_test['tt_id'][i] = \"tt0\"+str(links_test['imdbId'][i])\n",
    "    elif long_id == 7:\n",
    "        links_test['tt_id'][i] = \"tt\"+str(links_test['imdbId'][i])\n",
    "    else:\n",
    "        links_test['tt_id'][i] = 'erreur'\n",
    "links_test\n",
    "''' Affichage d'un warning mais c'est OK\n",
    "C:\\Users\\33670\\Anaconda3\\lib\\site-packages\\ipykernel_launcher.py:17: SettingWithCopyWarning: \n",
    "A value is trying to be set on a copy of a slice from a DataFrame\n",
    "See the caveats in the documentation: http://pandas.pydata.org/pandas-docs/stable/user_guide/indexing.html#returning-a-view-versus-a-copy\n",
    "'''"
   ]
  },
  {
   "cell_type": "code",
   "execution_count": null,
   "metadata": {},
   "outputs": [],
   "source": [
    "#Concat de la nouvelle colonne dans movies\n",
    "#print(movies['movieId'].dtype)   #int64\n",
    "#print(links_test['tt_id'].dtype)   #object\n",
    "\n",
    "#modification en object\n",
    "movies['movieId']= movies['movieId'].astype('object')\n",
    "\n",
    "#même taille donc on peut faire un concat\n",
    "movies_tt_id =pd.concat([movies, links_test['tt_id']], axis=1, sort=False)\n",
    "movies_tt_id"
   ]
  },
  {
   "cell_type": "code",
   "execution_count": null,
   "metadata": {},
   "outputs": [],
   "source": [
    "#title_akas   df_test_final1\n",
    "#title_basics   df_test_final2\n",
    "#title_crew   df_test_final3\n",
    "#title_episode   df_test_final4\n",
    "#title_principals   df_test_final5   \n",
    "#title_ratings   df_test_final6\n",
    "#name_basics   df_test_final7"
   ]
  },
  {
   "cell_type": "code",
   "execution_count": null,
   "metadata": {},
   "outputs": [],
   "source": [
    "df_movies_merge_title_akas = movies_tt_id.merge(title_akas,how='inner', left_on='tt_id', right_on='titleId')\n",
    "df_movies_merge_title_basics = movies_tt_id.merge(title_basics,how='inner', left_on='tt_id', right_on='tconst')\n",
    "df_movies_merge_title_crew = movies_tt_id.merge(title_crew,how='inner', left_on='tt_id', right_on='tconst')\n",
    "df_movies_merge_title_episode = movies_tt_id.merge(title_episode,how='inner', left_on='tt_id', right_on='tconst')\n",
    "df_movies_merge_title_principals = movies_tt_id.merge(title_principals,how='inner', left_on='tt_id', right_on='tconst')\n",
    "df_movies_merge_title_ratings = movies_tt_id.merge(title_ratings,how='inner', left_on='tt_id', right_on='tconst')\n",
    "''' A faire\n",
    "# jointure possible entre nconst avec title_principals\n",
    "# ou tconst à sortir de l'array knownForTitles et le tester avec tt_id\n",
    "df_test_final7 = movies_tt_id.merge(name_basics,how='inner', left_on='tt_id', right_on='tconst')\n",
    "print(df_test_final7.shape)\n",
    "df_test_final7.head(20)\n",
    "'''"
   ]
  },
  {
   "cell_type": "code",
   "execution_count": null,
   "metadata": {},
   "outputs": [],
   "source": [
    "#Affichage des caracteristisques des fichiers mergés\n",
    "print(df_movies_merge_title_akas.shape)\n",
    "df_movies_merge_title_akas\n",
    "print(df_movies_merge_title_basics.shape)\n",
    "df_movies_merge_title_basics\n",
    "#df_movies_merge_title_basics[df_movies_merge_title_basics['genres_x']=='(no genres listed)']   interessant pour l'absence de genre, attention aux genres!\n",
    "print(df_movies_merge_title_crew.shape)\n",
    "df_movies_merge_title_crew.head(20)\n",
    "print(df_movies_merge_title_episode.shape)\n",
    "df_movies_merge_title_episode.head(20)\n",
    "print(df_movies_merge_title_principals.shape)\n",
    "df_movies_merge_title_principals.head(15)\n",
    "print(df_movies_merge_title_ratings.shape)\n",
    "df_movies_merge_title_ratings.head(20)"
   ]
  },
  {
   "cell_type": "code",
   "execution_count": null,
   "metadata": {},
   "outputs": [],
   "source": [
    "#export des fichiers mergés (repertoire de sauvegarde a creer avant)\n",
    "way_to_save= \"C:/Users/33670/Desktop/wild/travail/Projet 3/fichiers_merge/\"\n",
    "df_movies_merge_title_akas = df_movies_merge_title_akas.to_csv(way_to_save+\"df_movies_merge_title_akas.csv\")\n",
    "df_movies_merge_title_basics = df_movies_merge_title_basics.to_csv(way_to_save+\"df_movies_merge_title_basics.csv\")\n",
    "df_movies_merge_title_crew = df_movies_merge_title_crew.to_csv(way_to_save+\"df_movies_merge_title_crew.csv\")\n",
    "df_movies_merge_title_episode = df_movies_merge_title_episode.to_csv(way_to_save+\"df_movies_merge_title_episode.csv\")\n",
    "df_movies_merge_title_principals = df_movies_merge_title_principals.to_csv(way_to_save+\"df_movies_merge_title_principals.csv\")\n",
    "df_movies_merge_title_ratings = df_movies_merge_title_ratings.to_csv(way_to_save+\"df_movies_merge_title_ratings.csv\")"
   ]
  }
 ],
 "metadata": {
  "kernelspec": {
   "display_name": "Python 3",
   "language": "python",
   "name": "python3"
  },
  "language_info": {
   "codemirror_mode": {
    "name": "ipython",
    "version": 3
   },
   "file_extension": ".py",
   "mimetype": "text/x-python",
   "name": "python",
   "nbconvert_exporter": "python",
   "pygments_lexer": "ipython3",
   "version": "3.7.4"
  }
 },
 "nbformat": 4,
 "nbformat_minor": 2
}
